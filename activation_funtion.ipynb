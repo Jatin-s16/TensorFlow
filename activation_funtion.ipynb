{
 "cells": [
  {
   "cell_type": "markdown",
   "metadata": {},
   "source": [
    "# Why use Activation Function?\n",
    "\n",
    "They provide non-linearity to the weighted sums of inputs.\n",
    "\n",
    "## Why do we need non-linearity?\n",
    "\n",
    "If we remove all the activation functions from all the hidden layer and input output layer neurons, we get simple linear equations which do not even need any hidden layers. And as we already know that linear equations or simple line cannot fit every kind of pattern that this universe has to offer, that's why we need non-linearity in complex problems."
   ]
  },
  {
   "cell_type": "markdown",
   "metadata": {},
   "source": [
    "# Activation Functions\n",
    "\n"
   ]
  },
  {
   "cell_type": "code",
   "execution_count": null,
   "metadata": {},
   "outputs": [],
   "source": []
  }
 ],
 "metadata": {
  "language_info": {
   "name": "python"
  }
 },
 "nbformat": 4,
 "nbformat_minor": 2
}
