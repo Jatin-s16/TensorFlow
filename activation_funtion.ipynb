{
 "cells": [
  {
   "cell_type": "markdown",
   "metadata": {},
   "source": [
    "# Why use Activation Function?\n",
    "\n",
    "They provide non-linearity to the weighted sums of inputs.\n",
    "\n",
    "## Why do we need non-linearity?\n",
    "\n",
    "If we remove all the activation functions from all the hidden layer and input output layer neurons, we get simple linear equations which do not even need any hidden layers. And as we already know that linear equations or simple line cannot fit every kind of pattern that this universe has to offer, that's why we need non-linearity in complex problems."
   ]
  },
  {
   "cell_type": "markdown",
   "metadata": {},
   "source": [
    "# Activation Functions\n",
    "\n",
    "### Step Function -> \n",
    "\n",
    "Useful for binary classification, but for multi-class classification, will give 0 and 1 to various classes, which will become difficult to manage."
   ]
  },
  {
   "cell_type": "markdown",
   "metadata": {},
   "source": [
    "### Sigmoid Function ->\n",
    "\n",
    "In case of multi-class classification, gives probabilities for various classes to happen, and we choose class with highest prob. Better than step, since provides a smooth curve between data points rather than a simple step line. Compresses output values between 0 & 1."
   ]
  },
  {
   "cell_type": "markdown",
   "metadata": {},
   "source": [
    "### tanh function\n",
    "\n",
    "Like sigmoid, but compresses output values around 0, and in (-1 to 1) range which is better than sigmoid function.\n",
    "\n",
    "### Common understanding is that use sigmoid activation in output layer, and tanh anywhere else."
   ]
  }
 ],
 "metadata": {
  "language_info": {
   "name": "python"
  }
 },
 "nbformat": 4,
 "nbformat_minor": 2
}
